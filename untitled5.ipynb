{
  "nbformat": 4,
  "nbformat_minor": 0,
  "metadata": {
    "colab": {
      "provenance": [],
      "toc_visible": true,
      "authorship_tag": "ABX9TyMzc8ij8MZjWotLw782iiae",
      "include_colab_link": true
    },
    "kernelspec": {
      "name": "python3",
      "display_name": "Python 3"
    },
    "language_info": {
      "name": "python"
    }
  },
  "cells": [
    {
      "cell_type": "markdown",
      "metadata": {
        "id": "view-in-github",
        "colab_type": "text"
      },
      "source": [
        "<a href=\"https://colab.research.google.com/github/DeytoAndres/sistemasDistribuidos/blob/main/untitled5.ipynb\" target=\"_parent\"><img src=\"https://colab.research.google.com/assets/colab-badge.svg\" alt=\"Open In Colab\"/></a>"
      ]
    },
    {
      "cell_type": "code",
      "execution_count": null,
      "metadata": {
        "colab": {
          "base_uri": "https://localhost:8080/"
        },
        "id": "YnjyMiS87i9k",
        "outputId": "500f7c13-4aab-40a5-84d6-d7d80601ae01"
      },
      "outputs": [
        {
          "output_type": "stream",
          "name": "stdout",
          "text": [
            "3.10.12 (main, Nov 20 2023, 15:14:05) [GCC 11.4.0]\n"
          ]
        }
      ],
      "source": [
        "import sys\n",
        "print(sys.version)\n"
      ]
    },
    {
      "cell_type": "code",
      "source": [
        "myNumber= 3\n",
        "myNumberDecimal=3.6\n",
        "state=True"
      ],
      "metadata": {
        "id": "Gu7WCM6B_JBN"
      },
      "execution_count": null,
      "outputs": []
    },
    {
      "cell_type": "code",
      "source": [
        "print(f'valor entero={myNumber}')\n",
        "print(f'valor entero es = ',myNumber)\n",
        "print(f'valor decimal={myNumberDecimal}')\n",
        "print(f'el valor boleano es=',state)"
      ],
      "metadata": {
        "colab": {
          "base_uri": "https://localhost:8080/"
        },
        "id": "K93vGpRNDT1S",
        "outputId": "8381b75e-6e12-47fe-d313-b56bca587c8d"
      },
      "execution_count": null,
      "outputs": [
        {
          "output_type": "stream",
          "name": "stdout",
          "text": [
            "valor entero=3\n",
            "valor entero es =  3\n",
            "valor decimal=3.6\n",
            "el valor boleano es= True\n"
          ]
        }
      ]
    },
    {
      "cell_type": "code",
      "source": [
        "aux1=10\n",
        "aux2=2\n",
        "print(\"La suma de los dos valores aux1+aux2 =\", aux1+aux2)\n",
        "print(\"La resta de los dos valores aux1-aux2 =\", aux1-aux2)\n",
        "print(\"La multiplicacion de los dos valores aux1*aux2 =\", aux1*aux2)\n",
        "print(\"La division de los dos valores aux1/aux2 =\", aux1/aux2)\n",
        "print(\"La potencia de los dos valores aux1**aux2 =\", aux1**aux2)"
      ],
      "metadata": {
        "colab": {
          "base_uri": "https://localhost:8080/"
        },
        "id": "6NN1aR6cEp8z",
        "outputId": "6f179d2a-a055-4785-c8f6-86892064b024"
      },
      "execution_count": null,
      "outputs": [
        {
          "output_type": "stream",
          "name": "stdout",
          "text": [
            "La suma de los dos valores aux1+aux2 = 12\n",
            "La resta de los dos valores aux1-aux2 = 8\n",
            "La multiplicacion de los dos valores aux1*aux2 = 20\n",
            "La division de los dos valores aux1/aux2 = 5.0\n",
            "La potencia de los dos valores aux1**aux2 = 100\n"
          ]
        }
      ]
    },
    {
      "cell_type": "code",
      "source": [
        "var1='hola'\n",
        "var2='!,Deyto'\n",
        "print(var1+var2)"
      ],
      "metadata": {
        "colab": {
          "base_uri": "https://localhost:8080/"
        },
        "id": "xLkTxh8PFyt8",
        "outputId": "f6fb37c7-466c-4164-e3ba-739346f2fbed"
      },
      "execution_count": null,
      "outputs": [
        {
          "output_type": "stream",
          "name": "stdout",
          "text": [
            "hola!,Deyto\n"
          ]
        }
      ]
    },
    {
      "cell_type": "code",
      "source": [
        "print(3*var1)"
      ],
      "metadata": {
        "colab": {
          "base_uri": "https://localhost:8080/"
        },
        "id": "4vXehqiyGiRU",
        "outputId": "f6894547-d92e-4438-980e-e2b832291925"
      },
      "execution_count": null,
      "outputs": [
        {
          "output_type": "stream",
          "name": "stdout",
          "text": [
            "holaholahola\n"
          ]
        }
      ]
    },
    {
      "cell_type": "code",
      "source": [
        "num1=10\n",
        "num2=10.5"
      ],
      "metadata": {
        "id": "y7wf8GjiGsNk"
      },
      "execution_count": null,
      "outputs": []
    },
    {
      "cell_type": "markdown",
      "source": [
        "Lunes 24 de junio"
      ],
      "metadata": {
        "id": "5q-KxxZIlm38"
      }
    },
    {
      "cell_type": "code",
      "source": [
        "tmp=list()\n",
        "tmp.append(2)\n",
        "print(tmp)\n",
        "tmp.append('Deyto')\n",
        "print(tmp)\n",
        "#print(tmp(2))\n",
        "#aux=tmp(2)\n",
        "#aux=capitalize()\n",
        "# print(aux)\n",
        "#print(aux.upper())\n",
        "tmp1='hello'\n",
        "print(tmp1.capitalize())\n",
        "aux1=[1,2,3,4,5,6,7,8,9,10]\n",
        "# print(aux1)\n",
        "# aux1[4]=10\n",
        "# print(aux1)\n",
        "# print(aux1[1-1])\n",
        "# print(aux1[3:7])\n",
        "# print(aux1[0:5])\n",
        "\n",
        "# aux2=list()\n",
        "# for i in range(100):\n",
        "#   aux2.append(i)\n",
        "# #print(aux2[:20])\n",
        "\n",
        "# aux3=list()\n",
        "# for indx, elem in enumerate(aux2):\n",
        "#   if aux2[indx]%2==0:\n",
        "#     aux3.append(aux2[indx])\n",
        "\n",
        "# print(aux3)\n",
        "\n",
        "# aux4=list()\n",
        "# for indx, elem in enumerate(aux2):\n",
        "#   if aux2[indx]%2==1:\n",
        "#     aux4.append(aux2[indx])\n",
        "\n",
        "# print(aux4)\n",
        "\n",
        "animals=['cat','Dog', 'Monkey','rabbit']\n",
        "for animal in animals:\n",
        "  print(animal)\n",
        "\n",
        "tmp3=[ i**2 for i in range(10) if i%2==0 ]\n",
        "print(tmp3)\n",
        "\n",
        "myList=[1,2,3,4,5,6]\n",
        "myDictaux1={x:x**2 for x in  myList}\n",
        "print(myDictaux1)"
      ],
      "metadata": {
        "colab": {
          "base_uri": "https://localhost:8080/"
        },
        "id": "OIKgt6ocltsK",
        "outputId": "affb7465-9ac6-4dc5-c761-7d5c358c5da0"
      },
      "execution_count": 4,
      "outputs": [
        {
          "output_type": "stream",
          "name": "stdout",
          "text": [
            "[2]\n",
            "[2, 'Deyto']\n",
            "Hello\n",
            "cat\n",
            "Dog\n",
            "Monkey\n",
            "rabbit\n",
            "[0, 4, 16, 36, 64]\n",
            "{1: 1, 2: 4, 3: 9, 4: 16, 5: 25, 6: 36}\n"
          ]
        }
      ]
    },
    {
      "cell_type": "code",
      "source": [
        "def suma(var1, var2, flag):\n",
        "  if flag==True:\n",
        "    tmp=var1+var2\n",
        "  else:\n",
        "    tmp=var1-var2\n",
        "  return tmp\n",
        "\n",
        "\n",
        "num1=3\n",
        "num2=7\n",
        "control=False\n",
        "print(suma(num1,num2, control))"
      ],
      "metadata": {
        "colab": {
          "base_uri": "https://localhost:8080/"
        },
        "id": "R4W4dQN-2beR",
        "outputId": "a4dc6216-35a9-41af-fd1c-ad510a655f49"
      },
      "execution_count": 8,
      "outputs": [
        {
          "output_type": "stream",
          "name": "stdout",
          "text": [
            "-4\n"
          ]
        }
      ]
    },
    {
      "cell_type": "code",
      "source": [
        "listNumeros=[-1,+2,0]\n",
        "def numero_positivo_negativo(numero):\n",
        "  if numero > 0:\n",
        "    return 'positivo'\n",
        "  if numero < 0:\n",
        "   return 'negativo'\n",
        "  else:\n",
        "   return 'no tiene signo'\n",
        "\n",
        "  for numero in lista:\n",
        "    print(f'El numero (numero) es (signo(numero))')\n",
        "\n",
        "\n",
        "\n"
      ],
      "metadata": {
        "id": "48mIMWFq64ia"
      },
      "execution_count": 10,
      "outputs": []
    }
  ]
}