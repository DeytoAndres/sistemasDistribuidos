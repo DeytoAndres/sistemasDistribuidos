{
  "nbformat": 4,
  "nbformat_minor": 0,
  "metadata": {
    "colab": {
      "provenance": [],
      "authorship_tag": "ABX9TyNEBnUvl8GIVWTZARloE82m",
      "include_colab_link": true
    },
    "kernelspec": {
      "name": "python3",
      "display_name": "Python 3"
    },
    "language_info": {
      "name": "python"
    }
  },
  "cells": [
    {
      "cell_type": "markdown",
      "metadata": {
        "id": "view-in-github",
        "colab_type": "text"
      },
      "source": [
        "<a href=\"https://colab.research.google.com/github/DeytoAndres/sistemasDistribuidos/blob/main/Untitled6.ipynb\" target=\"_parent\"><img src=\"https://colab.research.google.com/assets/colab-badge.svg\" alt=\"Open In Colab\"/></a>"
      ]
    },
    {
      "cell_type": "code",
      "execution_count": 5,
      "metadata": {
        "colab": {
          "base_uri": "https://localhost:8080/"
        },
        "id": "QYpCEQ1wozhh",
        "outputId": "c5b4b59f-b203-4337-c60c-b4e42d6b7299"
      },
      "outputs": [
        {
          "output_type": "stream",
          "name": "stdout",
          "text": [
            "[[6 5 5 1]\n",
            " [9 5 3 1]\n",
            " [9 7 2 3]]\n",
            "4.666666666666667\n",
            "4.666666666666667\n",
            "[4.25 4.5  5.25]\n",
            "56\n",
            "[5. 4. 5.]\n"
          ]
        }
      ],
      "source": [
        "# Matriz aleatoria de 3*4\n",
        "import numpy as np\n",
        "a=np.random.randint(1,10,(3,4))\n",
        "print(a)\n",
        "tmp=np.mean(a)\n",
        "print(tmp)\n",
        "print(a.mean())\n",
        "tmp=a.mean(axis=1)\n",
        "print(tmp)\n",
        "\n",
        "aux=a.sum()\n",
        "print(aux)\n",
        "medianValue=np.median(a, axis=1)\n",
        "print(medianValue)"
      ]
    },
    {
      "cell_type": "code",
      "source": [
        "#SORTING-ORDENAR\n",
        "b=np.random.randn(10)\n",
        "print(b)\n",
        "print(b.shape)\n",
        "b.sort()\n",
        "print(b)"
      ],
      "metadata": {
        "colab": {
          "base_uri": "https://localhost:8080/"
        },
        "id": "7tPKcCaAquwQ",
        "outputId": "cb545290-f96e-4f48-d5c0-73c24eee6de2"
      },
      "execution_count": 6,
      "outputs": [
        {
          "output_type": "stream",
          "name": "stdout",
          "text": [
            "[ 0.04024321 -1.12869851 -0.72140827  0.78067523 -1.65034897 -0.03338148\n",
            " -1.22066728  0.33837888  1.39490145 -0.20315882]\n",
            "(10,)\n",
            "[-1.65034897 -1.22066728 -1.12869851 -0.72140827 -0.20315882 -0.03338148\n",
            "  0.04024321  0.33837888  0.78067523  1.39490145]\n"
          ]
        }
      ]
    },
    {
      "cell_type": "code",
      "source": [
        "c=np.array([2,3,4,5,6,7,8,2])\n",
        "print(np.unique(c))"
      ],
      "metadata": {
        "colab": {
          "base_uri": "https://localhost:8080/"
        },
        "id": "BMzUIfRArp94",
        "outputId": "84097240-68b0-4eb1-b029-3bee61205a25"
      },
      "execution_count": 8,
      "outputs": [
        {
          "output_type": "stream",
          "name": "stdout",
          "text": [
            "[2 3 4 5 6 7 8]\n"
          ]
        }
      ]
    },
    {
      "cell_type": "code",
      "source": [
        "string1=np.array(['desk','chair','bulb'])\n",
        "string2=np.array(['lamp','bulb','chair'])\n",
        "\n",
        "tmp1=np.intersect1d(string1,string2)\n",
        "print(tmp1)\n",
        "tmp2=np.union1d(string1,string2)\n",
        "print(tmp2)\n",
        "tmp3=np.setdiff1d(string1,string2)\n",
        "print(tmp3)\n",
        "in_both = np.in1d(string1, string2)\n",
        "print(string1[in_both])"
      ],
      "metadata": {
        "colab": {
          "base_uri": "https://localhost:8080/"
        },
        "id": "qB0ATRCLsKIQ",
        "outputId": "bf59cc44-f55b-475c-c2fa-5aae0a044215"
      },
      "execution_count": 11,
      "outputs": [
        {
          "output_type": "stream",
          "name": "stdout",
          "text": [
            "['bulb' 'chair']\n",
            "['bulb' 'chair' 'desk' 'lamp']\n",
            "['desk']\n",
            "['chair' 'bulb']\n"
          ]
        }
      ]
    },
    {
      "cell_type": "code",
      "source": [
        "#BROADCASTING\n",
        "aux=np.zeros((4,3))\n",
        "print(aux)\n",
        "\n",
        "replicate=np.array([1,2,3])\n",
        "aux=aux+replicate\n",
        "print(aux)\n",
        "replicateCol=np.array([[10,10,10]])\n",
        "print(replicateCol.shape)\n",
        "replicateCol=np.reshape(replicateCol,(3,1))\n",
        "print(replicateCol.shape)\n",
        "aux=np.zeros((3,3))\n",
        "aux1=replicateCol+aux\n",
        "print(aux1)\n",
        "\n",
        "#Vector\n",
        "vector=np.array([45])\n",
        "matrizxZeros=np.array([45])\n",
        "matrizxZeros=np.zeros((5,5))\n",
        "print(matrizxZeros)\n",
        "print(matrizxZeros+vector)"
      ],
      "metadata": {
        "colab": {
          "base_uri": "https://localhost:8080/"
        },
        "id": "0pyDiK5RuOz6",
        "outputId": "a39815eb-eb67-4dad-9f91-4262a36cf2a8"
      },
      "execution_count": 18,
      "outputs": [
        {
          "output_type": "stream",
          "name": "stdout",
          "text": [
            "[[0. 0. 0.]\n",
            " [0. 0. 0.]\n",
            " [0. 0. 0.]\n",
            " [0. 0. 0.]]\n",
            "[[1. 2. 3.]\n",
            " [1. 2. 3.]\n",
            " [1. 2. 3.]\n",
            " [1. 2. 3.]]\n",
            "(1, 3)\n",
            "(3, 1)\n",
            "[[10. 10. 10.]\n",
            " [10. 10. 10.]\n",
            " [10. 10. 10.]]\n",
            "[[0. 0. 0. 0. 0.]\n",
            " [0. 0. 0. 0. 0.]\n",
            " [0. 0. 0. 0. 0.]\n",
            " [0. 0. 0. 0. 0.]\n",
            " [0. 0. 0. 0. 0.]]\n",
            "[[45. 45. 45. 45. 45.]\n",
            " [45. 45. 45. 45. 45.]\n",
            " [45. 45. 45. 45. 45.]\n",
            " [45. 45. 45. 45. 45.]\n",
            " [45. 45. 45. 45. 45.]]\n"
          ]
        }
      ]
    },
    {
      "cell_type": "code",
      "source": [],
      "metadata": {
        "id": "H8muQHY0udDy"
      },
      "execution_count": null,
      "outputs": []
    }
  ]
}