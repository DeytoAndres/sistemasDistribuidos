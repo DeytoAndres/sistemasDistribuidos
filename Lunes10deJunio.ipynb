{
  "nbformat": 4,
  "nbformat_minor": 0,
  "metadata": {
    "colab": {
      "provenance": [],
      "authorship_tag": "ABX9TyPy5H0ZKIm0lA5Ospf7HDph",
      "include_colab_link": true
    },
    "kernelspec": {
      "name": "python3",
      "display_name": "Python 3"
    },
    "language_info": {
      "name": "python"
    }
  },
  "cells": [
    {
      "cell_type": "markdown",
      "metadata": {
        "id": "view-in-github",
        "colab_type": "text"
      },
      "source": [
        "<a href=\"https://colab.research.google.com/github/DeytoAndres/sistemasDistribuidos/blob/main/Lunes10deJunio.ipynb\" target=\"_parent\"><img src=\"https://colab.research.google.com/assets/colab-badge.svg\" alt=\"Open In Colab\"/></a>"
      ]
    },
    {
      "cell_type": "code",
      "execution_count": 1,
      "metadata": {
        "colab": {
          "base_uri": "https://localhost:8080/"
        },
        "id": "YnjyMiS87i9k",
        "outputId": "500f7c13-4aab-40a5-84d6-d7d80601ae01"
      },
      "outputs": [
        {
          "output_type": "stream",
          "name": "stdout",
          "text": [
            "3.10.12 (main, Nov 20 2023, 15:14:05) [GCC 11.4.0]\n"
          ]
        }
      ],
      "source": [
        "import sys\n",
        "print(sys.version)\n"
      ]
    },
    {
      "cell_type": "code",
      "source": [
        "myNumber= 3\n",
        "myNumberDecimal=3.6\n",
        "state=True"
      ],
      "metadata": {
        "id": "Gu7WCM6B_JBN"
      },
      "execution_count": 3,
      "outputs": []
    },
    {
      "cell_type": "code",
      "source": [
        "print(f'valor entero={myNumber}')\n",
        "print(f'valor entero es = ',myNumber)\n",
        "print(f'valor decimal={myNumberDecimal}')\n",
        "print(f'el valor boleano es=',state)"
      ],
      "metadata": {
        "colab": {
          "base_uri": "https://localhost:8080/"
        },
        "id": "K93vGpRNDT1S",
        "outputId": "8381b75e-6e12-47fe-d313-b56bca587c8d"
      },
      "execution_count": 11,
      "outputs": [
        {
          "output_type": "stream",
          "name": "stdout",
          "text": [
            "valor entero=3\n",
            "valor entero es =  3\n",
            "valor decimal=3.6\n",
            "el valor boleano es= True\n"
          ]
        }
      ]
    },
    {
      "cell_type": "code",
      "source": [
        "aux1=10\n",
        "aux2=2\n",
        "print(\"La suma de los dos valores aux1+aux2 =\", aux1+aux2)\n",
        "print(\"La resta de los dos valores aux1-aux2 =\", aux1-aux2)\n",
        "print(\"La multiplicacion de los dos valores aux1*aux2 =\", aux1*aux2)\n",
        "print(\"La division de los dos valores aux1/aux2 =\", aux1/aux2)\n",
        "print(\"La potencia de los dos valores aux1**aux2 =\", aux1**aux2)"
      ],
      "metadata": {
        "colab": {
          "base_uri": "https://localhost:8080/"
        },
        "id": "6NN1aR6cEp8z",
        "outputId": "6f179d2a-a055-4785-c8f6-86892064b024"
      },
      "execution_count": 15,
      "outputs": [
        {
          "output_type": "stream",
          "name": "stdout",
          "text": [
            "La suma de los dos valores aux1+aux2 = 12\n",
            "La resta de los dos valores aux1-aux2 = 8\n",
            "La multiplicacion de los dos valores aux1*aux2 = 20\n",
            "La division de los dos valores aux1/aux2 = 5.0\n",
            "La potencia de los dos valores aux1**aux2 = 100\n"
          ]
        }
      ]
    },
    {
      "cell_type": "code",
      "source": [
        "var1='hola'\n",
        "var2='!,Deyto'\n",
        "print(var1+var2)"
      ],
      "metadata": {
        "colab": {
          "base_uri": "https://localhost:8080/"
        },
        "id": "xLkTxh8PFyt8",
        "outputId": "f6fb37c7-466c-4164-e3ba-739346f2fbed"
      },
      "execution_count": 18,
      "outputs": [
        {
          "output_type": "stream",
          "name": "stdout",
          "text": [
            "hola!,Deyto\n"
          ]
        }
      ]
    },
    {
      "cell_type": "code",
      "source": [
        "print(3*var1)"
      ],
      "metadata": {
        "colab": {
          "base_uri": "https://localhost:8080/"
        },
        "id": "4vXehqiyGiRU",
        "outputId": "f6894547-d92e-4438-980e-e2b832291925"
      },
      "execution_count": 20,
      "outputs": [
        {
          "output_type": "stream",
          "name": "stdout",
          "text": [
            "holaholahola\n"
          ]
        }
      ]
    },
    {
      "cell_type": "code",
      "source": [
        "num1=10\n",
        "num2=10.5"
      ],
      "metadata": {
        "id": "y7wf8GjiGsNk"
      },
      "execution_count": 22,
      "outputs": []
    },
    {
      "cell_type": "code",
      "source": [
        "print('the type of the num1 is: ',type(num1)"
      ],
      "metadata": {
        "colab": {
          "base_uri": "https://localhost:8080/",
          "height": 106
        },
        "id": "3Y_BHwCvG7G0",
        "outputId": "bf95841e-9d67-4c58-aeac-05c47fda5b12"
      },
      "execution_count": 24,
      "outputs": [
        {
          "output_type": "error",
          "ename": "SyntaxError",
          "evalue": "incomplete input (<ipython-input-24-8941fe026f6b>, line 1)",
          "traceback": [
            "\u001b[0;36m  File \u001b[0;32m\"<ipython-input-24-8941fe026f6b>\"\u001b[0;36m, line \u001b[0;32m1\u001b[0m\n\u001b[0;31m    print('the type of the num1 is: ',type(num1)\u001b[0m\n\u001b[0m                                                ^\u001b[0m\n\u001b[0;31mSyntaxError\u001b[0m\u001b[0;31m:\u001b[0m incomplete input\n"
          ]
        }
      ]
    }
  ]
}